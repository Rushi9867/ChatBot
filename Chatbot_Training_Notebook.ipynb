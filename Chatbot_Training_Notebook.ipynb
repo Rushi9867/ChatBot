{
  "cells": [
    {
      "cell_type": "code",
      "execution_count": 1,
      "metadata": {
        "id": "qIgd4nsS5uMk"
      },
      "outputs": [],
      "source": [
        "data_path = \"D:/Programs/NLP/Projects/A-Simple-Deep-Learning-Based-Chatbot/job_intents.json\""
      ]
    },
    {
      "cell_type": "code",
      "execution_count": 2,
      "metadata": {
        "colab": {
          "base_uri": "https://localhost:8080/"
        },
        "id": "wvtxL5oZ51SB",
        "outputId": "ef816a3a-01b2-4f8e-bbda-c7e47d9f2cec"
      },
      "outputs": [
        {
          "name": "stderr",
          "output_type": "stream",
          "text": [
            "[nltk_data] Downloading package punkt to\n",
            "[nltk_data]     C:\\Users\\Rushikesh\\AppData\\Roaming\\nltk_data...\n",
            "[nltk_data]   Package punkt is already up-to-date!\n",
            "[nltk_data] Downloading package wordnet to\n",
            "[nltk_data]     C:\\Users\\Rushikesh\\AppData\\Roaming\\nltk_data...\n",
            "[nltk_data]   Package wordnet is already up-to-date!\n",
            "[nltk_data] Downloading package omw-1.4 to\n",
            "[nltk_data]     C:\\Users\\Rushikesh\\AppData\\Roaming\\nltk_data...\n",
            "[nltk_data]   Package omw-1.4 is already up-to-date!\n"
          ]
        }
      ],
      "source": [
        "import nltk\n",
        "nltk.download('punkt')\n",
        "nltk.download('wordnet')\n",
        "nltk.download('omw-1.4')\n",
        "from nltk.stem import WordNetLemmatizer\n",
        "import tensorflow as tf\n",
        "import json\n",
        "import pickle\n",
        "import numpy as np\n",
        "from tensorflow.keras.models import Sequential\n",
        "from tensorflow.keras.layers import Dense, Activation, Dropout\n",
        "from tensorflow.keras.optimizers import SGD\n",
        "import random\n",
        "import pandas as pd\n",
        "import matplotlib.pyplot as plt"
      ]
    },
    {
      "cell_type": "markdown",
      "metadata": {
        "id": "Y6XjTA0E55k8"
      },
      "source": [
        "# Text Preprocessing"
      ]
    },
    {
      "cell_type": "code",
      "execution_count": 3,
      "metadata": {
        "id": "h44Q5rr053Ib"
      },
      "outputs": [],
      "source": [
        "words=[] #all unique words\n",
        "classes = []  #all classed\n",
        "documents = [] #all input with label\n",
        "ignore_words = ['?', '!']\n",
        "\n",
        "data_file = open(data_path, encoding='utf-8').read()\n",
        "intents = json.loads(data_file)"
      ]
    },
    {
      "cell_type": "code",
      "execution_count": 4,
      "metadata": {
        "id": "KY3Aufeo58ri"
      },
      "outputs": [],
      "source": [
        "for intent in intents['intents']:\n",
        "    for pattern in intent['patterns']:\n",
        "\n",
        "        w = nltk.word_tokenize(pattern)\n",
        "        words.extend(w)\n",
        "\n",
        "        documents.append((w, intent['tag']))\n",
        "\n",
        "\n",
        "        if intent['tag'] not in classes:\n",
        "            classes.append(intent['tag'])"
      ]
    },
    {
      "cell_type": "code",
      "execution_count": 5,
      "metadata": {
        "id": "SKPpfUVX6Dtx"
      },
      "outputs": [],
      "source": [
        "lemmatizer = WordNetLemmatizer()"
      ]
    },
    {
      "cell_type": "code",
      "execution_count": 6,
      "metadata": {
        "id": "rBfc8cGk6HJa"
      },
      "outputs": [],
      "source": [
        "lm_words = [lemmatizer.lemmatize(w.lower()) for w in words if w not in ignore_words]"
      ]
    },
    {
      "cell_type": "code",
      "execution_count": 7,
      "metadata": {
        "colab": {
          "base_uri": "https://localhost:8080/"
        },
        "id": "whTOZMvY6Nj0",
        "outputId": "bea43635-01f5-435a-ee8a-a1991881a9e4"
      },
      "outputs": [
        {
          "data": {
            "text/plain": [
              "[\"'s\",\n",
              " ',',\n",
              " 'about',\n",
              " 'africa',\n",
              " 'anyone',\n",
              " 'are',\n",
              " 'awesome',\n",
              " 'bye',\n",
              " 'can',\n",
              " 'day',\n",
              " 'do',\n",
              " 'ekse',\n",
              " 'fact',\n",
              " 'for',\n",
              " 'give',\n",
              " 'good',\n",
              " 'goodbye',\n",
              " 'hello',\n",
              " 'help',\n",
              " 'helpful',\n",
              " 'helping',\n",
              " 'hey',\n",
              " 'hi',\n",
              " 'hola',\n",
              " 'how',\n",
              " 'interesting',\n",
              " 'is',\n",
              " 'know',\n",
              " 'later',\n",
              " 'me',\n",
              " 'more',\n",
              " 'name',\n",
              " 'ok',\n",
              " 'purpose',\n",
              " 'sa',\n",
              " 'see',\n",
              " 'some',\n",
              " 'something',\n",
              " 'south',\n",
              " 'tell',\n",
              " 'thank',\n",
              " 'thanks',\n",
              " 'that',\n",
              " 'there',\n",
              " 'ungubani',\n",
              " 'what',\n",
              " 'whats',\n",
              " 'who',\n",
              " 'you',\n",
              " 'your',\n",
              " 'yourself']"
            ]
          },
          "execution_count": 7,
          "metadata": {},
          "output_type": "execute_result"
        }
      ],
      "source": [
        "lm_words = sorted(list(set(lm_words)))\n",
        "lm_words"
      ]
    },
    {
      "cell_type": "code",
      "execution_count": 8,
      "metadata": {
        "colab": {
          "base_uri": "https://localhost:8080/"
        },
        "id": "qjgLT0EK6PBx",
        "outputId": "8b73c723-d712-44f2-8eb0-85e9d13f7c83"
      },
      "outputs": [
        {
          "name": "stdout",
          "output_type": "stream",
          "text": [
            "53 documents\n",
            "7 classes ['goodbye', 'greeting', 'name', 'options', 'south_africa_facts', 'south_africa_info', 'thanks']\n",
            "51 unique lemmatized words [\"'s\", ',', 'about', 'africa', 'anyone', 'are', 'awesome', 'bye', 'can', 'day', 'do', 'ekse', 'fact', 'for', 'give', 'good', 'goodbye', 'hello', 'help', 'helpful', 'helping', 'hey', 'hi', 'hola', 'how', 'interesting', 'is', 'know', 'later', 'me', 'more', 'name', 'ok', 'purpose', 'sa', 'see', 'some', 'something', 'south', 'tell', 'thank', 'thanks', 'that', 'there', 'ungubani', 'what', 'whats', 'who', 'you', 'your', 'yourself']\n"
          ]
        }
      ],
      "source": [
        "classes = sorted(list(set(classes)))\n",
        "\n",
        "print (len(documents), \"documents\")\n",
        "print (len(classes), \"classes\", classes)\n",
        "print (len(lm_words), \"unique lemmatized words\", lm_words)"
      ]
    },
    {
      "cell_type": "code",
      "execution_count": 9,
      "metadata": {
        "id": "SNxhYOct6TfZ"
      },
      "outputs": [],
      "source": [
        "pickle.dump(lm_words,open('words.pkl','wb'))\n",
        "pickle.dump(classes,open('classes.pkl','wb'))"
      ]
    },
    {
      "cell_type": "markdown",
      "metadata": {
        "id": "KcEoqBkY6cyE"
      },
      "source": [
        "# Feature Engineering / Text representation"
      ]
    },
    {
      "cell_type": "code",
      "execution_count": 10,
      "metadata": {
        "id": "jx3_8Amu6Z3A"
      },
      "outputs": [],
      "source": [
        "# initializing training data\n",
        "training = []\n",
        "output_empty = [0] * len(classes)"
      ]
    },
    {
      "cell_type": "code",
      "execution_count": 11,
      "metadata": {
        "id": "JA_SBoXC6h84"
      },
      "outputs": [],
      "source": [
        "for doc in documents:\n",
        "\n",
        "    bag = []\n",
        "\n",
        "    pattern_words = doc[0]\n",
        "    pattern_words = [lemmatizer.lemmatize(word.lower()) for word in pattern_words]\n",
        "\n",
        "    for w in lm_words:\n",
        "        bag.append(1) if w in pattern_words else bag.append(0)\n",
        "\n",
        "\n",
        "    output_row = list(output_empty)\n",
        "    output_row[classes.index(doc[1])] = 1\n",
        "    training.append([bag, output_row])"
      ]
    },
    {
      "cell_type": "code",
      "execution_count": 12,
      "metadata": {
        "colab": {
          "base_uri": "https://localhost:8080/"
        },
        "id": "6_AVUlTD6lu_",
        "outputId": "becc5e89-e030-4a32-9ec6-6bf982f080b1"
      },
      "outputs": [
        {
          "name": "stderr",
          "output_type": "stream",
          "text": [
            "C:\\Users\\Rushikesh\\AppData\\Local\\Temp\\ipykernel_5676\\2195589081.py:2: VisibleDeprecationWarning: Creating an ndarray from ragged nested sequences (which is a list-or-tuple of lists-or-tuples-or ndarrays with different lengths or shapes) is deprecated. If you meant to do this, you must specify 'dtype=object' when creating the ndarray.\n",
            "  training = np.array(training)\n"
          ]
        }
      ],
      "source": [
        "random.shuffle(training)\n",
        "training = np.array(training)"
      ]
    },
    {
      "cell_type": "code",
      "execution_count": 13,
      "metadata": {
        "colab": {
          "base_uri": "https://localhost:8080/"
        },
        "id": "82hCGMVT6oO7",
        "outputId": "4e894608-8338-44fe-89cd-8f768ad93b97"
      },
      "outputs": [
        {
          "data": {
            "text/plain": [
              "(53, 2)"
            ]
          },
          "execution_count": 13,
          "metadata": {},
          "output_type": "execute_result"
        }
      ],
      "source": [
        "training.shape"
      ]
    },
    {
      "cell_type": "code",
      "execution_count": 14,
      "metadata": {
        "id": "Rl9cQz_66qLx"
      },
      "outputs": [],
      "source": [
        "# create train and test lists. X - patterns, Y - intents\n",
        "train_x = list(training[:,0])\n",
        "train_y = list(training[:,1])\n",
        "\n",
        "VALIDATION_SET = (train_x, train_y)"
      ]
    },
    {
      "cell_type": "markdown",
      "metadata": {
        "id": "NgquuWGo7D53"
      },
      "source": [
        "# Modeling & Evaluation"
      ]
    },
    {
      "cell_type": "code",
      "execution_count": 15,
      "metadata": {
        "id": "IOvIfvTA7B0R"
      },
      "outputs": [],
      "source": [
        "# Create model - 3 layers. First layer 128 neurons, second layer 64 neurons and 3rd output layer contains number of neurons\n",
        "# equal to number of intents to predict output intent with softmax\n",
        "model = Sequential()\n",
        "model.add(Dense(128, input_shape=(len(train_x[0]),), activation='relu'))\n",
        "model.add(Dropout(0.5))\n",
        "model.add(Dense(64, activation='relu'))\n",
        "model.add(Dropout(0.5))\n",
        "model.add(Dense(len(train_y[0]), activation='softmax'))"
      ]
    },
    {
      "cell_type": "code",
      "execution_count": 17,
      "metadata": {},
      "outputs": [],
      "source": [
        "from tensorflow.keras.optimizers.legacy import SGD"
      ]
    },
    {
      "cell_type": "code",
      "execution_count": 18,
      "metadata": {
        "id": "7VPjOCf77Gjh"
      },
      "outputs": [],
      "source": [
        "# Compile model. Stochastic gradient descent with Nesterov accelerated gradient gives good results for this model\n",
        "sgd = SGD(learning_rate=0.01, decay=1e-6, momentum=0.9, nesterov=True)\n",
        "model.compile(loss='categorical_crossentropy', optimizer=sgd, metrics=['accuracy'])"
      ]
    },
    {
      "cell_type": "code",
      "execution_count": 19,
      "metadata": {
        "colab": {
          "base_uri": "https://localhost:8080/"
        },
        "id": "eJLW4NW07IPV",
        "outputId": "81b8abc2-91b6-4056-ead0-2a8f18a5276b"
      },
      "outputs": [
        {
          "name": "stdout",
          "output_type": "stream",
          "text": [
            "Epoch 1/250\n",
            "11/11 [==============================] - 1s 29ms/step - loss: 1.9189 - accuracy: 0.1698 - val_loss: 1.8407 - val_accuracy: 0.3208\n",
            "Epoch 2/250\n",
            "11/11 [==============================] - 0s 15ms/step - loss: 1.8085 - accuracy: 0.2830 - val_loss: 1.6785 - val_accuracy: 0.2830\n",
            "Epoch 3/250\n",
            "11/11 [==============================] - 0s 15ms/step - loss: 1.6635 - accuracy: 0.3208 - val_loss: 1.5598 - val_accuracy: 0.3585\n",
            "Epoch 4/250\n",
            "11/11 [==============================] - 0s 12ms/step - loss: 1.6843 - accuracy: 0.3208 - val_loss: 1.4490 - val_accuracy: 0.5849\n",
            "Epoch 5/250\n",
            "11/11 [==============================] - 0s 14ms/step - loss: 1.5295 - accuracy: 0.4340 - val_loss: 1.3290 - val_accuracy: 0.6792\n",
            "Epoch 6/250\n",
            "11/11 [==============================] - 0s 12ms/step - loss: 1.4599 - accuracy: 0.5283 - val_loss: 1.2128 - val_accuracy: 0.7170\n",
            "Epoch 7/250\n",
            "11/11 [==============================] - 0s 9ms/step - loss: 1.3144 - accuracy: 0.6038 - val_loss: 1.0687 - val_accuracy: 0.7736\n",
            "Epoch 8/250\n",
            "11/11 [==============================] - 0s 9ms/step - loss: 1.0890 - accuracy: 0.7358 - val_loss: 0.9420 - val_accuracy: 0.7925\n",
            "Epoch 9/250\n",
            "11/11 [==============================] - 0s 8ms/step - loss: 1.1265 - accuracy: 0.6604 - val_loss: 0.8351 - val_accuracy: 0.8491\n",
            "Epoch 10/250\n",
            "11/11 [==============================] - 0s 9ms/step - loss: 0.9446 - accuracy: 0.6981 - val_loss: 0.7371 - val_accuracy: 0.8491\n",
            "Epoch 11/250\n",
            "11/11 [==============================] - 0s 9ms/step - loss: 0.9376 - accuracy: 0.7547 - val_loss: 0.6497 - val_accuracy: 0.8679\n",
            "Epoch 12/250\n",
            "11/11 [==============================] - 0s 8ms/step - loss: 0.8390 - accuracy: 0.7925 - val_loss: 0.5785 - val_accuracy: 0.8868\n",
            "Epoch 13/250\n",
            "11/11 [==============================] - 0s 9ms/step - loss: 0.8532 - accuracy: 0.7358 - val_loss: 0.5157 - val_accuracy: 0.8868\n",
            "Epoch 14/250\n",
            "11/11 [==============================] - 0s 8ms/step - loss: 0.7192 - accuracy: 0.7547 - val_loss: 0.4482 - val_accuracy: 0.9434\n",
            "Epoch 15/250\n",
            "11/11 [==============================] - 0s 9ms/step - loss: 0.5304 - accuracy: 0.8868 - val_loss: 0.3941 - val_accuracy: 0.9434\n",
            "Epoch 16/250\n",
            "11/11 [==============================] - 0s 8ms/step - loss: 0.6074 - accuracy: 0.8113 - val_loss: 0.3338 - val_accuracy: 0.9623\n",
            "Epoch 17/250\n",
            "11/11 [==============================] - 0s 18ms/step - loss: 0.4611 - accuracy: 0.8679 - val_loss: 0.2946 - val_accuracy: 0.9811\n",
            "Epoch 18/250\n",
            "11/11 [==============================] - 0s 9ms/step - loss: 0.5167 - accuracy: 0.8679 - val_loss: 0.2537 - val_accuracy: 0.9811\n",
            "Epoch 19/250\n",
            "11/11 [==============================] - 0s 8ms/step - loss: 0.4656 - accuracy: 0.8868 - val_loss: 0.2262 - val_accuracy: 0.9811\n",
            "Epoch 20/250\n",
            "11/11 [==============================] - 0s 8ms/step - loss: 0.3721 - accuracy: 0.8679 - val_loss: 0.1944 - val_accuracy: 1.0000\n",
            "Epoch 21/250\n",
            "11/11 [==============================] - 0s 8ms/step - loss: 0.4562 - accuracy: 0.8491 - val_loss: 0.1656 - val_accuracy: 1.0000\n",
            "Epoch 22/250\n",
            "11/11 [==============================] - 0s 8ms/step - loss: 0.4220 - accuracy: 0.8868 - val_loss: 0.1450 - val_accuracy: 1.0000\n",
            "Epoch 23/250\n",
            "11/11 [==============================] - 0s 9ms/step - loss: 0.4157 - accuracy: 0.8302 - val_loss: 0.1268 - val_accuracy: 1.0000\n",
            "Epoch 24/250\n",
            "11/11 [==============================] - 0s 8ms/step - loss: 0.3411 - accuracy: 0.9245 - val_loss: 0.1045 - val_accuracy: 1.0000\n",
            "Epoch 25/250\n",
            "11/11 [==============================] - 0s 8ms/step - loss: 0.2071 - accuracy: 0.9623 - val_loss: 0.0911 - val_accuracy: 1.0000\n",
            "Epoch 26/250\n",
            "11/11 [==============================] - 0s 9ms/step - loss: 0.3683 - accuracy: 0.9057 - val_loss: 0.0914 - val_accuracy: 1.0000\n",
            "Epoch 27/250\n",
            "11/11 [==============================] - 0s 9ms/step - loss: 0.2294 - accuracy: 0.9623 - val_loss: 0.0872 - val_accuracy: 1.0000\n",
            "Epoch 28/250\n",
            "11/11 [==============================] - 0s 9ms/step - loss: 0.2362 - accuracy: 0.9245 - val_loss: 0.0766 - val_accuracy: 1.0000\n",
            "Epoch 29/250\n",
            "11/11 [==============================] - 0s 9ms/step - loss: 0.3073 - accuracy: 0.8868 - val_loss: 0.0644 - val_accuracy: 1.0000\n",
            "Epoch 30/250\n",
            "11/11 [==============================] - 0s 10ms/step - loss: 0.2772 - accuracy: 0.9434 - val_loss: 0.0578 - val_accuracy: 1.0000\n",
            "Epoch 31/250\n",
            "11/11 [==============================] - 0s 10ms/step - loss: 0.2875 - accuracy: 0.9057 - val_loss: 0.0494 - val_accuracy: 1.0000\n",
            "Epoch 32/250\n",
            "11/11 [==============================] - 0s 8ms/step - loss: 0.1547 - accuracy: 0.9434 - val_loss: 0.0442 - val_accuracy: 1.0000\n",
            "Epoch 33/250\n",
            "11/11 [==============================] - 0s 10ms/step - loss: 0.1673 - accuracy: 0.9623 - val_loss: 0.0391 - val_accuracy: 1.0000\n",
            "Epoch 34/250\n",
            "11/11 [==============================] - 0s 9ms/step - loss: 0.2259 - accuracy: 0.9434 - val_loss: 0.0354 - val_accuracy: 1.0000\n",
            "Epoch 35/250\n",
            "11/11 [==============================] - 0s 9ms/step - loss: 0.2198 - accuracy: 0.9434 - val_loss: 0.0336 - val_accuracy: 1.0000\n",
            "Epoch 36/250\n",
            "11/11 [==============================] - 0s 9ms/step - loss: 0.2330 - accuracy: 0.9245 - val_loss: 0.0338 - val_accuracy: 1.0000\n",
            "Epoch 37/250\n",
            "11/11 [==============================] - 0s 8ms/step - loss: 0.1465 - accuracy: 0.9623 - val_loss: 0.0275 - val_accuracy: 1.0000\n",
            "Epoch 38/250\n",
            "11/11 [==============================] - 0s 10ms/step - loss: 0.1714 - accuracy: 0.9811 - val_loss: 0.0228 - val_accuracy: 1.0000\n",
            "Epoch 39/250\n",
            "11/11 [==============================] - 0s 8ms/step - loss: 0.1270 - accuracy: 0.9623 - val_loss: 0.0217 - val_accuracy: 1.0000\n",
            "Epoch 40/250\n",
            "11/11 [==============================] - 0s 8ms/step - loss: 0.1430 - accuracy: 0.9623 - val_loss: 0.0189 - val_accuracy: 1.0000\n",
            "Epoch 41/250\n",
            "11/11 [==============================] - 0s 8ms/step - loss: 0.1189 - accuracy: 0.9623 - val_loss: 0.0159 - val_accuracy: 1.0000\n",
            "Epoch 42/250\n",
            "11/11 [==============================] - 0s 8ms/step - loss: 0.1817 - accuracy: 0.9434 - val_loss: 0.0136 - val_accuracy: 1.0000\n",
            "Epoch 43/250\n",
            "11/11 [==============================] - 0s 9ms/step - loss: 0.0777 - accuracy: 0.9811 - val_loss: 0.0125 - val_accuracy: 1.0000\n",
            "Epoch 44/250\n",
            "11/11 [==============================] - 0s 9ms/step - loss: 0.1069 - accuracy: 0.9811 - val_loss: 0.0110 - val_accuracy: 1.0000\n",
            "Epoch 45/250\n",
            "11/11 [==============================] - 0s 11ms/step - loss: 0.1586 - accuracy: 0.9623 - val_loss: 0.0101 - val_accuracy: 1.0000\n",
            "Epoch 46/250\n",
            "11/11 [==============================] - 0s 9ms/step - loss: 0.0609 - accuracy: 1.0000 - val_loss: 0.0094 - val_accuracy: 1.0000\n",
            "Epoch 47/250\n",
            "11/11 [==============================] - 0s 8ms/step - loss: 0.0609 - accuracy: 1.0000 - val_loss: 0.0087 - val_accuracy: 1.0000\n",
            "Epoch 48/250\n",
            "11/11 [==============================] - 0s 23ms/step - loss: 0.0564 - accuracy: 1.0000 - val_loss: 0.0080 - val_accuracy: 1.0000\n",
            "Epoch 49/250\n",
            "11/11 [==============================] - 0s 13ms/step - loss: 0.1463 - accuracy: 0.9434 - val_loss: 0.0076 - val_accuracy: 1.0000\n",
            "Epoch 50/250\n",
            "11/11 [==============================] - 0s 13ms/step - loss: 0.0676 - accuracy: 1.0000 - val_loss: 0.0074 - val_accuracy: 1.0000\n",
            "Epoch 51/250\n",
            "11/11 [==============================] - 0s 9ms/step - loss: 0.0955 - accuracy: 0.9811 - val_loss: 0.0065 - val_accuracy: 1.0000\n",
            "Epoch 52/250\n",
            "11/11 [==============================] - 0s 13ms/step - loss: 0.0376 - accuracy: 1.0000 - val_loss: 0.0060 - val_accuracy: 1.0000\n",
            "Epoch 53/250\n",
            "11/11 [==============================] - 0s 10ms/step - loss: 0.1173 - accuracy: 0.9623 - val_loss: 0.0061 - val_accuracy: 1.0000\n",
            "Epoch 54/250\n",
            "11/11 [==============================] - 0s 14ms/step - loss: 0.0897 - accuracy: 1.0000 - val_loss: 0.0059 - val_accuracy: 1.0000\n",
            "Epoch 55/250\n",
            "11/11 [==============================] - 0s 11ms/step - loss: 0.0788 - accuracy: 0.9811 - val_loss: 0.0056 - val_accuracy: 1.0000\n",
            "Epoch 56/250\n",
            "11/11 [==============================] - 0s 13ms/step - loss: 0.0717 - accuracy: 0.9811 - val_loss: 0.0052 - val_accuracy: 1.0000\n",
            "Epoch 57/250\n",
            "11/11 [==============================] - 0s 11ms/step - loss: 0.0982 - accuracy: 0.9811 - val_loss: 0.0050 - val_accuracy: 1.0000\n",
            "Epoch 58/250\n",
            "11/11 [==============================] - 0s 14ms/step - loss: 0.0357 - accuracy: 1.0000 - val_loss: 0.0051 - val_accuracy: 1.0000\n",
            "Epoch 59/250\n",
            "11/11 [==============================] - 0s 8ms/step - loss: 0.0625 - accuracy: 1.0000 - val_loss: 0.0043 - val_accuracy: 1.0000\n",
            "Epoch 60/250\n",
            "11/11 [==============================] - 0s 15ms/step - loss: 0.0748 - accuracy: 1.0000 - val_loss: 0.0033 - val_accuracy: 1.0000\n",
            "Epoch 61/250\n",
            "11/11 [==============================] - 0s 9ms/step - loss: 0.0819 - accuracy: 0.9623 - val_loss: 0.0030 - val_accuracy: 1.0000\n",
            "Epoch 62/250\n",
            "11/11 [==============================] - 0s 11ms/step - loss: 0.1310 - accuracy: 0.9811 - val_loss: 0.0035 - val_accuracy: 1.0000\n",
            "Epoch 63/250\n",
            "11/11 [==============================] - 0s 10ms/step - loss: 0.0772 - accuracy: 0.9623 - val_loss: 0.0042 - val_accuracy: 1.0000\n",
            "Epoch 64/250\n",
            "11/11 [==============================] - 0s 10ms/step - loss: 0.1016 - accuracy: 0.9623 - val_loss: 0.0036 - val_accuracy: 1.0000\n",
            "Epoch 65/250\n",
            "11/11 [==============================] - 0s 12ms/step - loss: 0.0293 - accuracy: 1.0000 - val_loss: 0.0035 - val_accuracy: 1.0000\n",
            "Epoch 66/250\n",
            "11/11 [==============================] - 0s 10ms/step - loss: 0.0805 - accuracy: 0.9811 - val_loss: 0.0032 - val_accuracy: 1.0000\n",
            "Epoch 67/250\n",
            "11/11 [==============================] - 0s 11ms/step - loss: 0.0498 - accuracy: 1.0000 - val_loss: 0.0029 - val_accuracy: 1.0000\n",
            "Epoch 68/250\n",
            "11/11 [==============================] - 0s 12ms/step - loss: 0.0550 - accuracy: 0.9811 - val_loss: 0.0027 - val_accuracy: 1.0000\n",
            "Epoch 69/250\n",
            "11/11 [==============================] - 0s 9ms/step - loss: 0.0833 - accuracy: 0.9623 - val_loss: 0.0026 - val_accuracy: 1.0000\n",
            "Epoch 70/250\n",
            "11/11 [==============================] - 0s 12ms/step - loss: 0.0494 - accuracy: 0.9811 - val_loss: 0.0024 - val_accuracy: 1.0000\n",
            "Epoch 71/250\n",
            "11/11 [==============================] - 0s 9ms/step - loss: 0.0400 - accuracy: 1.0000 - val_loss: 0.0025 - val_accuracy: 1.0000\n",
            "Epoch 72/250\n",
            "11/11 [==============================] - 0s 10ms/step - loss: 0.0739 - accuracy: 0.9811 - val_loss: 0.0023 - val_accuracy: 1.0000\n",
            "Epoch 73/250\n",
            "11/11 [==============================] - 0s 10ms/step - loss: 0.0864 - accuracy: 0.9811 - val_loss: 0.0022 - val_accuracy: 1.0000\n",
            "Epoch 74/250\n",
            "11/11 [==============================] - 0s 12ms/step - loss: 0.0617 - accuracy: 0.9811 - val_loss: 0.0023 - val_accuracy: 1.0000\n",
            "Epoch 75/250\n",
            "11/11 [==============================] - 0s 10ms/step - loss: 0.0691 - accuracy: 0.9811 - val_loss: 0.0021 - val_accuracy: 1.0000\n",
            "Epoch 76/250\n",
            "11/11 [==============================] - 0s 26ms/step - loss: 0.0236 - accuracy: 1.0000 - val_loss: 0.0021 - val_accuracy: 1.0000\n",
            "Epoch 77/250\n",
            "11/11 [==============================] - 0s 9ms/step - loss: 0.0242 - accuracy: 1.0000 - val_loss: 0.0019 - val_accuracy: 1.0000\n",
            "Epoch 78/250\n",
            "11/11 [==============================] - 0s 10ms/step - loss: 0.0220 - accuracy: 1.0000 - val_loss: 0.0016 - val_accuracy: 1.0000\n",
            "Epoch 79/250\n",
            "11/11 [==============================] - 0s 10ms/step - loss: 0.0332 - accuracy: 1.0000 - val_loss: 0.0015 - val_accuracy: 1.0000\n",
            "Epoch 80/250\n",
            "11/11 [==============================] - 0s 9ms/step - loss: 0.0535 - accuracy: 1.0000 - val_loss: 0.0014 - val_accuracy: 1.0000\n",
            "Epoch 81/250\n",
            "11/11 [==============================] - 0s 8ms/step - loss: 0.0731 - accuracy: 0.9811 - val_loss: 0.0014 - val_accuracy: 1.0000\n",
            "Epoch 82/250\n",
            "11/11 [==============================] - 0s 9ms/step - loss: 0.0689 - accuracy: 1.0000 - val_loss: 0.0013 - val_accuracy: 1.0000\n",
            "Epoch 83/250\n",
            "11/11 [==============================] - 0s 10ms/step - loss: 0.0428 - accuracy: 1.0000 - val_loss: 0.0013 - val_accuracy: 1.0000\n",
            "Epoch 84/250\n",
            "11/11 [==============================] - 0s 9ms/step - loss: 0.0197 - accuracy: 1.0000 - val_loss: 0.0013 - val_accuracy: 1.0000\n",
            "Epoch 85/250\n",
            "11/11 [==============================] - 0s 8ms/step - loss: 0.0389 - accuracy: 1.0000 - val_loss: 0.0012 - val_accuracy: 1.0000\n",
            "Epoch 86/250\n",
            "11/11 [==============================] - 0s 8ms/step - loss: 0.0502 - accuracy: 0.9811 - val_loss: 0.0012 - val_accuracy: 1.0000\n",
            "Epoch 87/250\n",
            "11/11 [==============================] - 0s 10ms/step - loss: 0.0720 - accuracy: 0.9623 - val_loss: 0.0012 - val_accuracy: 1.0000\n",
            "Epoch 88/250\n",
            "11/11 [==============================] - 0s 8ms/step - loss: 0.0373 - accuracy: 0.9811 - val_loss: 0.0011 - val_accuracy: 1.0000\n",
            "Epoch 89/250\n",
            "11/11 [==============================] - 0s 11ms/step - loss: 0.0237 - accuracy: 1.0000 - val_loss: 0.0011 - val_accuracy: 1.0000\n",
            "Epoch 90/250\n",
            "11/11 [==============================] - 0s 10ms/step - loss: 0.0595 - accuracy: 0.9811 - val_loss: 0.0012 - val_accuracy: 1.0000\n",
            "Epoch 91/250\n",
            "11/11 [==============================] - 0s 10ms/step - loss: 0.0786 - accuracy: 0.9623 - val_loss: 0.0014 - val_accuracy: 1.0000\n",
            "Epoch 92/250\n",
            "11/11 [==============================] - 0s 10ms/step - loss: 0.0560 - accuracy: 1.0000 - val_loss: 0.0012 - val_accuracy: 1.0000\n",
            "Epoch 93/250\n",
            "11/11 [==============================] - 0s 11ms/step - loss: 0.0319 - accuracy: 1.0000 - val_loss: 0.0011 - val_accuracy: 1.0000\n",
            "Epoch 94/250\n",
            "11/11 [==============================] - 0s 10ms/step - loss: 0.0535 - accuracy: 1.0000 - val_loss: 8.8597e-04 - val_accuracy: 1.0000\n",
            "Epoch 95/250\n",
            "11/11 [==============================] - 0s 9ms/step - loss: 0.0281 - accuracy: 1.0000 - val_loss: 8.2676e-04 - val_accuracy: 1.0000\n",
            "Epoch 96/250\n",
            "11/11 [==============================] - 0s 10ms/step - loss: 0.0104 - accuracy: 1.0000 - val_loss: 8.3905e-04 - val_accuracy: 1.0000\n",
            "Epoch 97/250\n",
            "11/11 [==============================] - 0s 10ms/step - loss: 0.0383 - accuracy: 1.0000 - val_loss: 7.7688e-04 - val_accuracy: 1.0000\n",
            "Epoch 98/250\n",
            "11/11 [==============================] - 0s 8ms/step - loss: 0.0317 - accuracy: 0.9811 - val_loss: 6.8714e-04 - val_accuracy: 1.0000\n",
            "Epoch 99/250\n",
            "11/11 [==============================] - 0s 12ms/step - loss: 0.0402 - accuracy: 1.0000 - val_loss: 6.4615e-04 - val_accuracy: 1.0000\n",
            "Epoch 100/250\n",
            "11/11 [==============================] - 0s 9ms/step - loss: 0.0208 - accuracy: 1.0000 - val_loss: 7.0449e-04 - val_accuracy: 1.0000\n",
            "Epoch 101/250\n",
            "11/11 [==============================] - 0s 20ms/step - loss: 0.0212 - accuracy: 1.0000 - val_loss: 6.9164e-04 - val_accuracy: 1.0000\n",
            "Epoch 102/250\n",
            "11/11 [==============================] - 0s 17ms/step - loss: 0.0574 - accuracy: 0.9811 - val_loss: 6.4479e-04 - val_accuracy: 1.0000\n",
            "Epoch 103/250\n",
            "11/11 [==============================] - 0s 21ms/step - loss: 0.0851 - accuracy: 0.9811 - val_loss: 5.9304e-04 - val_accuracy: 1.0000\n",
            "Epoch 104/250\n",
            "11/11 [==============================] - 0s 16ms/step - loss: 0.0335 - accuracy: 1.0000 - val_loss: 5.9262e-04 - val_accuracy: 1.0000\n",
            "Epoch 105/250\n",
            "11/11 [==============================] - 0s 25ms/step - loss: 0.0776 - accuracy: 0.9811 - val_loss: 5.7595e-04 - val_accuracy: 1.0000\n",
            "Epoch 106/250\n",
            "11/11 [==============================] - 0s 13ms/step - loss: 0.0276 - accuracy: 1.0000 - val_loss: 6.4220e-04 - val_accuracy: 1.0000\n",
            "Epoch 107/250\n",
            "11/11 [==============================] - 0s 10ms/step - loss: 0.0379 - accuracy: 1.0000 - val_loss: 6.3694e-04 - val_accuracy: 1.0000\n",
            "Epoch 108/250\n",
            "11/11 [==============================] - 0s 11ms/step - loss: 0.0273 - accuracy: 1.0000 - val_loss: 5.8524e-04 - val_accuracy: 1.0000\n",
            "Epoch 109/250\n",
            "11/11 [==============================] - 0s 13ms/step - loss: 0.0222 - accuracy: 1.0000 - val_loss: 5.2030e-04 - val_accuracy: 1.0000\n",
            "Epoch 110/250\n",
            "11/11 [==============================] - 0s 11ms/step - loss: 0.0311 - accuracy: 1.0000 - val_loss: 4.5765e-04 - val_accuracy: 1.0000\n",
            "Epoch 111/250\n",
            "11/11 [==============================] - 0s 16ms/step - loss: 0.0231 - accuracy: 1.0000 - val_loss: 4.2496e-04 - val_accuracy: 1.0000\n",
            "Epoch 112/250\n",
            "11/11 [==============================] - 0s 13ms/step - loss: 0.0191 - accuracy: 1.0000 - val_loss: 3.9858e-04 - val_accuracy: 1.0000\n",
            "Epoch 113/250\n",
            "11/11 [==============================] - 0s 10ms/step - loss: 0.0411 - accuracy: 0.9811 - val_loss: 3.9866e-04 - val_accuracy: 1.0000\n",
            "Epoch 114/250\n",
            "11/11 [==============================] - 0s 13ms/step - loss: 0.0181 - accuracy: 1.0000 - val_loss: 4.2458e-04 - val_accuracy: 1.0000\n",
            "Epoch 115/250\n",
            "11/11 [==============================] - 0s 13ms/step - loss: 0.0267 - accuracy: 1.0000 - val_loss: 4.1857e-04 - val_accuracy: 1.0000\n",
            "Epoch 116/250\n",
            "11/11 [==============================] - 0s 11ms/step - loss: 0.0281 - accuracy: 1.0000 - val_loss: 4.0126e-04 - val_accuracy: 1.0000\n",
            "Epoch 117/250\n",
            "11/11 [==============================] - 0s 11ms/step - loss: 0.0155 - accuracy: 1.0000 - val_loss: 3.9888e-04 - val_accuracy: 1.0000\n",
            "Epoch 118/250\n",
            "11/11 [==============================] - 0s 9ms/step - loss: 0.0229 - accuracy: 1.0000 - val_loss: 3.7258e-04 - val_accuracy: 1.0000\n",
            "Epoch 119/250\n",
            "11/11 [==============================] - 0s 16ms/step - loss: 0.0070 - accuracy: 1.0000 - val_loss: 3.4157e-04 - val_accuracy: 1.0000\n",
            "Epoch 120/250\n",
            "11/11 [==============================] - 0s 10ms/step - loss: 0.0139 - accuracy: 1.0000 - val_loss: 3.3192e-04 - val_accuracy: 1.0000\n",
            "Epoch 121/250\n",
            "11/11 [==============================] - 0s 10ms/step - loss: 0.0602 - accuracy: 0.9811 - val_loss: 2.9419e-04 - val_accuracy: 1.0000\n",
            "Epoch 122/250\n",
            "11/11 [==============================] - 0s 11ms/step - loss: 0.0112 - accuracy: 1.0000 - val_loss: 3.0208e-04 - val_accuracy: 1.0000\n",
            "Epoch 123/250\n",
            "11/11 [==============================] - 0s 10ms/step - loss: 0.0572 - accuracy: 0.9811 - val_loss: 3.2977e-04 - val_accuracy: 1.0000\n",
            "Epoch 124/250\n",
            "11/11 [==============================] - 0s 9ms/step - loss: 0.0321 - accuracy: 1.0000 - val_loss: 3.3610e-04 - val_accuracy: 1.0000\n",
            "Epoch 125/250\n",
            "11/11 [==============================] - 0s 15ms/step - loss: 0.0335 - accuracy: 1.0000 - val_loss: 3.1282e-04 - val_accuracy: 1.0000\n",
            "Epoch 126/250\n",
            "11/11 [==============================] - 0s 10ms/step - loss: 0.0403 - accuracy: 0.9811 - val_loss: 3.6134e-04 - val_accuracy: 1.0000\n",
            "Epoch 127/250\n",
            "11/11 [==============================] - 0s 12ms/step - loss: 0.0272 - accuracy: 1.0000 - val_loss: 3.5331e-04 - val_accuracy: 1.0000\n",
            "Epoch 128/250\n",
            "11/11 [==============================] - 0s 14ms/step - loss: 0.0247 - accuracy: 1.0000 - val_loss: 3.1952e-04 - val_accuracy: 1.0000\n",
            "Epoch 129/250\n",
            "11/11 [==============================] - 0s 10ms/step - loss: 0.0133 - accuracy: 1.0000 - val_loss: 3.0382e-04 - val_accuracy: 1.0000\n",
            "Epoch 130/250\n",
            "11/11 [==============================] - 0s 14ms/step - loss: 0.0242 - accuracy: 1.0000 - val_loss: 2.8320e-04 - val_accuracy: 1.0000\n",
            "Epoch 131/250\n",
            "11/11 [==============================] - 0s 22ms/step - loss: 0.0203 - accuracy: 1.0000 - val_loss: 2.6514e-04 - val_accuracy: 1.0000\n",
            "Epoch 132/250\n",
            "11/11 [==============================] - 0s 20ms/step - loss: 0.0280 - accuracy: 0.9811 - val_loss: 2.6542e-04 - val_accuracy: 1.0000\n",
            "Epoch 133/250\n",
            "11/11 [==============================] - 0s 12ms/step - loss: 0.0507 - accuracy: 0.9811 - val_loss: 2.7331e-04 - val_accuracy: 1.0000\n",
            "Epoch 134/250\n",
            "11/11 [==============================] - 0s 16ms/step - loss: 0.0321 - accuracy: 1.0000 - val_loss: 2.7232e-04 - val_accuracy: 1.0000\n",
            "Epoch 135/250\n",
            "11/11 [==============================] - 0s 17ms/step - loss: 0.0292 - accuracy: 0.9811 - val_loss: 2.4540e-04 - val_accuracy: 1.0000\n",
            "Epoch 136/250\n",
            "11/11 [==============================] - 0s 19ms/step - loss: 0.0068 - accuracy: 1.0000 - val_loss: 2.3240e-04 - val_accuracy: 1.0000\n",
            "Epoch 137/250\n",
            "11/11 [==============================] - 0s 19ms/step - loss: 0.0172 - accuracy: 1.0000 - val_loss: 2.2692e-04 - val_accuracy: 1.0000\n",
            "Epoch 138/250\n",
            "11/11 [==============================] - 0s 20ms/step - loss: 0.0069 - accuracy: 1.0000 - val_loss: 2.2957e-04 - val_accuracy: 1.0000\n",
            "Epoch 139/250\n",
            "11/11 [==============================] - 0s 15ms/step - loss: 0.0332 - accuracy: 0.9811 - val_loss: 2.2789e-04 - val_accuracy: 1.0000\n",
            "Epoch 140/250\n",
            "11/11 [==============================] - 0s 25ms/step - loss: 0.0190 - accuracy: 1.0000 - val_loss: 2.2571e-04 - val_accuracy: 1.0000\n",
            "Epoch 141/250\n",
            "11/11 [==============================] - 0s 20ms/step - loss: 0.0128 - accuracy: 1.0000 - val_loss: 2.1727e-04 - val_accuracy: 1.0000\n",
            "Epoch 142/250\n",
            "11/11 [==============================] - 0s 24ms/step - loss: 0.0199 - accuracy: 1.0000 - val_loss: 2.1213e-04 - val_accuracy: 1.0000\n",
            "Epoch 143/250\n",
            "11/11 [==============================] - 0s 18ms/step - loss: 0.0127 - accuracy: 1.0000 - val_loss: 2.0944e-04 - val_accuracy: 1.0000\n",
            "Epoch 144/250\n",
            "11/11 [==============================] - 0s 25ms/step - loss: 0.0255 - accuracy: 1.0000 - val_loss: 2.0493e-04 - val_accuracy: 1.0000\n",
            "Epoch 145/250\n",
            "11/11 [==============================] - 0s 24ms/step - loss: 0.0098 - accuracy: 1.0000 - val_loss: 1.8633e-04 - val_accuracy: 1.0000\n",
            "Epoch 146/250\n",
            "11/11 [==============================] - 0s 18ms/step - loss: 0.0185 - accuracy: 1.0000 - val_loss: 2.0785e-04 - val_accuracy: 1.0000\n",
            "Epoch 147/250\n",
            "11/11 [==============================] - 0s 23ms/step - loss: 0.0265 - accuracy: 1.0000 - val_loss: 2.0835e-04 - val_accuracy: 1.0000\n",
            "Epoch 148/250\n",
            "11/11 [==============================] - 0s 20ms/step - loss: 0.0074 - accuracy: 1.0000 - val_loss: 1.9918e-04 - val_accuracy: 1.0000\n",
            "Epoch 149/250\n",
            "11/11 [==============================] - 0s 20ms/step - loss: 0.0088 - accuracy: 1.0000 - val_loss: 1.8855e-04 - val_accuracy: 1.0000\n",
            "Epoch 150/250\n",
            "11/11 [==============================] - 0s 20ms/step - loss: 0.0400 - accuracy: 1.0000 - val_loss: 1.8163e-04 - val_accuracy: 1.0000\n",
            "Epoch 151/250\n",
            "11/11 [==============================] - 0s 17ms/step - loss: 0.0067 - accuracy: 1.0000 - val_loss: 1.7017e-04 - val_accuracy: 1.0000\n",
            "Epoch 152/250\n",
            "11/11 [==============================] - 0s 28ms/step - loss: 0.0164 - accuracy: 1.0000 - val_loss: 1.5496e-04 - val_accuracy: 1.0000\n",
            "Epoch 153/250\n",
            "11/11 [==============================] - 0s 20ms/step - loss: 0.0366 - accuracy: 0.9811 - val_loss: 1.4640e-04 - val_accuracy: 1.0000\n",
            "Epoch 154/250\n",
            "11/11 [==============================] - 0s 21ms/step - loss: 0.0258 - accuracy: 1.0000 - val_loss: 1.6076e-04 - val_accuracy: 1.0000\n",
            "Epoch 155/250\n",
            "11/11 [==============================] - 0s 21ms/step - loss: 0.0130 - accuracy: 1.0000 - val_loss: 1.6192e-04 - val_accuracy: 1.0000\n",
            "Epoch 156/250\n",
            "11/11 [==============================] - 0s 23ms/step - loss: 0.0155 - accuracy: 1.0000 - val_loss: 1.5543e-04 - val_accuracy: 1.0000\n",
            "Epoch 157/250\n",
            "11/11 [==============================] - 0s 35ms/step - loss: 0.0249 - accuracy: 1.0000 - val_loss: 1.5005e-04 - val_accuracy: 1.0000\n",
            "Epoch 158/250\n",
            "11/11 [==============================] - 0s 21ms/step - loss: 0.0235 - accuracy: 1.0000 - val_loss: 1.4818e-04 - val_accuracy: 1.0000\n",
            "Epoch 159/250\n",
            "11/11 [==============================] - 0s 20ms/step - loss: 0.0160 - accuracy: 1.0000 - val_loss: 1.4073e-04 - val_accuracy: 1.0000\n",
            "Epoch 160/250\n",
            "11/11 [==============================] - 0s 22ms/step - loss: 0.0362 - accuracy: 0.9811 - val_loss: 1.2865e-04 - val_accuracy: 1.0000\n",
            "Epoch 161/250\n",
            "11/11 [==============================] - 0s 22ms/step - loss: 0.0256 - accuracy: 1.0000 - val_loss: 1.3982e-04 - val_accuracy: 1.0000\n",
            "Epoch 162/250\n",
            "11/11 [==============================] - 0s 21ms/step - loss: 0.0293 - accuracy: 1.0000 - val_loss: 1.5233e-04 - val_accuracy: 1.0000\n",
            "Epoch 163/250\n",
            "11/11 [==============================] - 0s 21ms/step - loss: 0.0064 - accuracy: 1.0000 - val_loss: 1.4344e-04 - val_accuracy: 1.0000\n",
            "Epoch 164/250\n",
            "11/11 [==============================] - 0s 21ms/step - loss: 0.0131 - accuracy: 1.0000 - val_loss: 1.3398e-04 - val_accuracy: 1.0000\n",
            "Epoch 165/250\n",
            "11/11 [==============================] - 0s 20ms/step - loss: 0.0111 - accuracy: 1.0000 - val_loss: 1.2400e-04 - val_accuracy: 1.0000\n",
            "Epoch 166/250\n",
            "11/11 [==============================] - 0s 20ms/step - loss: 0.0063 - accuracy: 1.0000 - val_loss: 1.1843e-04 - val_accuracy: 1.0000\n",
            "Epoch 167/250\n",
            "11/11 [==============================] - 0s 22ms/step - loss: 0.0132 - accuracy: 1.0000 - val_loss: 1.2002e-04 - val_accuracy: 1.0000\n",
            "Epoch 168/250\n",
            "11/11 [==============================] - 0s 16ms/step - loss: 0.0101 - accuracy: 1.0000 - val_loss: 1.1970e-04 - val_accuracy: 1.0000\n",
            "Epoch 169/250\n",
            "11/11 [==============================] - 0s 27ms/step - loss: 0.0098 - accuracy: 1.0000 - val_loss: 1.1888e-04 - val_accuracy: 1.0000\n",
            "Epoch 170/250\n",
            "11/11 [==============================] - 0s 18ms/step - loss: 0.0169 - accuracy: 1.0000 - val_loss: 1.2457e-04 - val_accuracy: 1.0000\n",
            "Epoch 171/250\n",
            "11/11 [==============================] - 0s 23ms/step - loss: 0.0602 - accuracy: 0.9811 - val_loss: 1.1019e-04 - val_accuracy: 1.0000\n",
            "Epoch 172/250\n",
            "11/11 [==============================] - 0s 20ms/step - loss: 0.0361 - accuracy: 0.9811 - val_loss: 1.0669e-04 - val_accuracy: 1.0000\n",
            "Epoch 173/250\n",
            "11/11 [==============================] - 0s 19ms/step - loss: 0.0092 - accuracy: 1.0000 - val_loss: 1.0404e-04 - val_accuracy: 1.0000\n",
            "Epoch 174/250\n",
            "11/11 [==============================] - 0s 24ms/step - loss: 0.0093 - accuracy: 1.0000 - val_loss: 1.0387e-04 - val_accuracy: 1.0000\n",
            "Epoch 175/250\n",
            "11/11 [==============================] - 0s 24ms/step - loss: 0.0279 - accuracy: 0.9811 - val_loss: 1.0446e-04 - val_accuracy: 1.0000\n",
            "Epoch 176/250\n",
            "11/11 [==============================] - 0s 27ms/step - loss: 0.0153 - accuracy: 1.0000 - val_loss: 1.0241e-04 - val_accuracy: 1.0000\n",
            "Epoch 177/250\n",
            "11/11 [==============================] - 0s 16ms/step - loss: 0.0061 - accuracy: 1.0000 - val_loss: 9.5190e-05 - val_accuracy: 1.0000\n",
            "Epoch 178/250\n",
            "11/11 [==============================] - 0s 25ms/step - loss: 0.0184 - accuracy: 1.0000 - val_loss: 8.9278e-05 - val_accuracy: 1.0000\n",
            "Epoch 179/250\n",
            "11/11 [==============================] - 0s 20ms/step - loss: 0.0117 - accuracy: 1.0000 - val_loss: 8.3516e-05 - val_accuracy: 1.0000\n",
            "Epoch 180/250\n",
            "11/11 [==============================] - 0s 42ms/step - loss: 0.0102 - accuracy: 1.0000 - val_loss: 7.7976e-05 - val_accuracy: 1.0000\n",
            "Epoch 181/250\n",
            "11/11 [==============================] - 0s 18ms/step - loss: 0.0081 - accuracy: 1.0000 - val_loss: 7.1392e-05 - val_accuracy: 1.0000\n",
            "Epoch 182/250\n",
            "11/11 [==============================] - 0s 19ms/step - loss: 0.0103 - accuracy: 1.0000 - val_loss: 6.9292e-05 - val_accuracy: 1.0000\n",
            "Epoch 183/250\n",
            "11/11 [==============================] - 0s 22ms/step - loss: 0.0304 - accuracy: 0.9811 - val_loss: 7.5203e-05 - val_accuracy: 1.0000\n",
            "Epoch 184/250\n",
            "11/11 [==============================] - 0s 19ms/step - loss: 0.0056 - accuracy: 1.0000 - val_loss: 8.4783e-05 - val_accuracy: 1.0000\n",
            "Epoch 185/250\n",
            "11/11 [==============================] - 0s 21ms/step - loss: 0.0217 - accuracy: 1.0000 - val_loss: 8.9484e-05 - val_accuracy: 1.0000\n",
            "Epoch 186/250\n",
            "11/11 [==============================] - 0s 19ms/step - loss: 0.0094 - accuracy: 1.0000 - val_loss: 9.0895e-05 - val_accuracy: 1.0000\n",
            "Epoch 187/250\n",
            "11/11 [==============================] - 0s 22ms/step - loss: 0.0621 - accuracy: 0.9811 - val_loss: 8.4552e-05 - val_accuracy: 1.0000\n",
            "Epoch 188/250\n",
            "11/11 [==============================] - 0s 19ms/step - loss: 0.0285 - accuracy: 1.0000 - val_loss: 7.5128e-05 - val_accuracy: 1.0000\n",
            "Epoch 189/250\n",
            "11/11 [==============================] - 0s 27ms/step - loss: 0.0382 - accuracy: 0.9811 - val_loss: 8.2115e-05 - val_accuracy: 1.0000\n",
            "Epoch 190/250\n",
            "11/11 [==============================] - 0s 21ms/step - loss: 0.0199 - accuracy: 1.0000 - val_loss: 1.0413e-04 - val_accuracy: 1.0000\n",
            "Epoch 191/250\n",
            "11/11 [==============================] - 0s 23ms/step - loss: 0.0117 - accuracy: 1.0000 - val_loss: 1.1218e-04 - val_accuracy: 1.0000\n",
            "Epoch 192/250\n",
            "11/11 [==============================] - 0s 20ms/step - loss: 0.0125 - accuracy: 1.0000 - val_loss: 1.1111e-04 - val_accuracy: 1.0000\n",
            "Epoch 193/250\n",
            "11/11 [==============================] - 0s 16ms/step - loss: 0.0379 - accuracy: 0.9811 - val_loss: 1.0874e-04 - val_accuracy: 1.0000\n",
            "Epoch 194/250\n",
            "11/11 [==============================] - 0s 19ms/step - loss: 0.0420 - accuracy: 0.9811 - val_loss: 9.1568e-05 - val_accuracy: 1.0000\n",
            "Epoch 195/250\n",
            "11/11 [==============================] - 0s 20ms/step - loss: 0.0040 - accuracy: 1.0000 - val_loss: 8.7976e-05 - val_accuracy: 1.0000\n",
            "Epoch 196/250\n",
            "11/11 [==============================] - 0s 18ms/step - loss: 0.0192 - accuracy: 1.0000 - val_loss: 8.1178e-05 - val_accuracy: 1.0000\n",
            "Epoch 197/250\n",
            "11/11 [==============================] - 0s 18ms/step - loss: 0.0326 - accuracy: 1.0000 - val_loss: 8.0058e-05 - val_accuracy: 1.0000\n",
            "Epoch 198/250\n",
            "11/11 [==============================] - 0s 19ms/step - loss: 0.0229 - accuracy: 1.0000 - val_loss: 8.1563e-05 - val_accuracy: 1.0000\n",
            "Epoch 199/250\n",
            "11/11 [==============================] - 0s 22ms/step - loss: 0.0265 - accuracy: 0.9811 - val_loss: 8.5548e-05 - val_accuracy: 1.0000\n",
            "Epoch 200/250\n",
            "11/11 [==============================] - 0s 20ms/step - loss: 0.0099 - accuracy: 1.0000 - val_loss: 8.7410e-05 - val_accuracy: 1.0000\n",
            "Epoch 201/250\n",
            "11/11 [==============================] - 0s 19ms/step - loss: 0.0105 - accuracy: 1.0000 - val_loss: 8.4263e-05 - val_accuracy: 1.0000\n",
            "Epoch 202/250\n",
            "11/11 [==============================] - 0s 22ms/step - loss: 0.0212 - accuracy: 1.0000 - val_loss: 8.0323e-05 - val_accuracy: 1.0000\n",
            "Epoch 203/250\n",
            "11/11 [==============================] - 0s 22ms/step - loss: 0.0046 - accuracy: 1.0000 - val_loss: 7.4510e-05 - val_accuracy: 1.0000\n",
            "Epoch 204/250\n",
            "11/11 [==============================] - 0s 24ms/step - loss: 0.0167 - accuracy: 1.0000 - val_loss: 6.8920e-05 - val_accuracy: 1.0000\n",
            "Epoch 205/250\n",
            "11/11 [==============================] - 0s 42ms/step - loss: 0.0424 - accuracy: 0.9811 - val_loss: 7.2849e-05 - val_accuracy: 1.0000\n",
            "Epoch 206/250\n",
            "11/11 [==============================] - 0s 20ms/step - loss: 0.0103 - accuracy: 1.0000 - val_loss: 1.0225e-04 - val_accuracy: 1.0000\n",
            "Epoch 207/250\n",
            "11/11 [==============================] - 0s 16ms/step - loss: 0.1617 - accuracy: 0.9623 - val_loss: 1.1056e-04 - val_accuracy: 1.0000\n",
            "Epoch 208/250\n",
            "11/11 [==============================] - 0s 18ms/step - loss: 0.0283 - accuracy: 1.0000 - val_loss: 1.1024e-04 - val_accuracy: 1.0000\n",
            "Epoch 209/250\n",
            "11/11 [==============================] - 0s 21ms/step - loss: 0.0049 - accuracy: 1.0000 - val_loss: 1.0872e-04 - val_accuracy: 1.0000\n",
            "Epoch 210/250\n",
            "11/11 [==============================] - 0s 18ms/step - loss: 0.0242 - accuracy: 1.0000 - val_loss: 1.0468e-04 - val_accuracy: 1.0000\n",
            "Epoch 211/250\n",
            "11/11 [==============================] - 0s 19ms/step - loss: 0.0166 - accuracy: 1.0000 - val_loss: 1.0345e-04 - val_accuracy: 1.0000\n",
            "Epoch 212/250\n",
            "11/11 [==============================] - 0s 19ms/step - loss: 0.0177 - accuracy: 1.0000 - val_loss: 1.0303e-04 - val_accuracy: 1.0000\n",
            "Epoch 213/250\n",
            "11/11 [==============================] - 0s 18ms/step - loss: 0.0423 - accuracy: 0.9811 - val_loss: 1.2740e-04 - val_accuracy: 1.0000\n",
            "Epoch 214/250\n",
            "11/11 [==============================] - 0s 21ms/step - loss: 0.0355 - accuracy: 0.9811 - val_loss: 2.4061e-04 - val_accuracy: 1.0000\n",
            "Epoch 215/250\n",
            "11/11 [==============================] - 0s 18ms/step - loss: 0.0032 - accuracy: 1.0000 - val_loss: 3.1111e-04 - val_accuracy: 1.0000\n",
            "Epoch 216/250\n",
            "11/11 [==============================] - 0s 19ms/step - loss: 0.0103 - accuracy: 1.0000 - val_loss: 3.3093e-04 - val_accuracy: 1.0000\n",
            "Epoch 217/250\n",
            "11/11 [==============================] - 0s 22ms/step - loss: 0.0216 - accuracy: 1.0000 - val_loss: 2.8352e-04 - val_accuracy: 1.0000\n",
            "Epoch 218/250\n",
            "11/11 [==============================] - 0s 18ms/step - loss: 0.0127 - accuracy: 1.0000 - val_loss: 2.3582e-04 - val_accuracy: 1.0000\n",
            "Epoch 219/250\n",
            "11/11 [==============================] - 0s 18ms/step - loss: 0.0184 - accuracy: 1.0000 - val_loss: 2.1822e-04 - val_accuracy: 1.0000\n",
            "Epoch 220/250\n",
            "11/11 [==============================] - 0s 19ms/step - loss: 0.0470 - accuracy: 0.9811 - val_loss: 1.6905e-04 - val_accuracy: 1.0000\n",
            "Epoch 221/250\n",
            "11/11 [==============================] - 0s 18ms/step - loss: 0.0056 - accuracy: 1.0000 - val_loss: 1.5428e-04 - val_accuracy: 1.0000\n",
            "Epoch 222/250\n",
            "11/11 [==============================] - 0s 24ms/step - loss: 0.0090 - accuracy: 1.0000 - val_loss: 1.4651e-04 - val_accuracy: 1.0000\n",
            "Epoch 223/250\n",
            "11/11 [==============================] - 0s 18ms/step - loss: 0.0151 - accuracy: 1.0000 - val_loss: 1.2924e-04 - val_accuracy: 1.0000\n",
            "Epoch 224/250\n",
            "11/11 [==============================] - 0s 21ms/step - loss: 0.0581 - accuracy: 0.9811 - val_loss: 8.1127e-05 - val_accuracy: 1.0000\n",
            "Epoch 225/250\n",
            "11/11 [==============================] - 0s 18ms/step - loss: 0.0050 - accuracy: 1.0000 - val_loss: 8.0883e-05 - val_accuracy: 1.0000\n",
            "Epoch 226/250\n",
            "11/11 [==============================] - 0s 20ms/step - loss: 0.0140 - accuracy: 1.0000 - val_loss: 8.3033e-05 - val_accuracy: 1.0000\n",
            "Epoch 227/250\n",
            "11/11 [==============================] - 0s 21ms/step - loss: 0.0085 - accuracy: 1.0000 - val_loss: 8.2789e-05 - val_accuracy: 1.0000\n",
            "Epoch 228/250\n",
            "11/11 [==============================] - 0s 18ms/step - loss: 3.9100e-04 - accuracy: 1.0000 - val_loss: 8.2725e-05 - val_accuracy: 1.0000\n",
            "Epoch 229/250\n",
            "11/11 [==============================] - 0s 19ms/step - loss: 0.0020 - accuracy: 1.0000 - val_loss: 8.1142e-05 - val_accuracy: 1.0000\n",
            "Epoch 230/250\n",
            "11/11 [==============================] - 0s 19ms/step - loss: 0.0263 - accuracy: 0.9811 - val_loss: 8.9053e-05 - val_accuracy: 1.0000\n",
            "Epoch 231/250\n",
            "11/11 [==============================] - 0s 21ms/step - loss: 0.0154 - accuracy: 1.0000 - val_loss: 8.6058e-05 - val_accuracy: 1.0000\n",
            "Epoch 232/250\n",
            "11/11 [==============================] - 0s 44ms/step - loss: 0.0152 - accuracy: 1.0000 - val_loss: 7.9930e-05 - val_accuracy: 1.0000\n",
            "Epoch 233/250\n",
            "11/11 [==============================] - 0s 21ms/step - loss: 0.0312 - accuracy: 1.0000 - val_loss: 7.6311e-05 - val_accuracy: 1.0000\n",
            "Epoch 234/250\n",
            "11/11 [==============================] - 0s 20ms/step - loss: 0.0129 - accuracy: 1.0000 - val_loss: 7.1288e-05 - val_accuracy: 1.0000\n",
            "Epoch 235/250\n",
            "11/11 [==============================] - 0s 23ms/step - loss: 0.0814 - accuracy: 0.9811 - val_loss: 7.4542e-05 - val_accuracy: 1.0000\n",
            "Epoch 236/250\n",
            "11/11 [==============================] - 0s 20ms/step - loss: 0.0311 - accuracy: 0.9811 - val_loss: 6.6029e-05 - val_accuracy: 1.0000\n",
            "Epoch 237/250\n",
            "11/11 [==============================] - 0s 23ms/step - loss: 0.0012 - accuracy: 1.0000 - val_loss: 6.7526e-05 - val_accuracy: 1.0000\n",
            "Epoch 238/250\n",
            "11/11 [==============================] - 0s 19ms/step - loss: 0.0258 - accuracy: 1.0000 - val_loss: 7.5064e-05 - val_accuracy: 1.0000\n",
            "Epoch 239/250\n",
            "11/11 [==============================] - 0s 19ms/step - loss: 0.0523 - accuracy: 0.9811 - val_loss: 9.0709e-05 - val_accuracy: 1.0000\n",
            "Epoch 240/250\n",
            "11/11 [==============================] - 0s 23ms/step - loss: 0.0051 - accuracy: 1.0000 - val_loss: 9.7935e-05 - val_accuracy: 1.0000\n",
            "Epoch 241/250\n",
            "11/11 [==============================] - 0s 26ms/step - loss: 0.0267 - accuracy: 0.9811 - val_loss: 8.9095e-05 - val_accuracy: 1.0000\n",
            "Epoch 242/250\n",
            "11/11 [==============================] - 0s 31ms/step - loss: 0.0063 - accuracy: 1.0000 - val_loss: 8.2239e-05 - val_accuracy: 1.0000\n",
            "Epoch 243/250\n",
            "11/11 [==============================] - 0s 23ms/step - loss: 0.0390 - accuracy: 0.9623 - val_loss: 8.0844e-05 - val_accuracy: 1.0000\n",
            "Epoch 244/250\n",
            "11/11 [==============================] - 0s 22ms/step - loss: 0.0049 - accuracy: 1.0000 - val_loss: 8.5443e-05 - val_accuracy: 1.0000\n",
            "Epoch 245/250\n",
            "11/11 [==============================] - 1s 50ms/step - loss: 0.0118 - accuracy: 1.0000 - val_loss: 8.5533e-05 - val_accuracy: 1.0000\n",
            "Epoch 246/250\n",
            "11/11 [==============================] - 0s 21ms/step - loss: 0.0100 - accuracy: 1.0000 - val_loss: 8.0121e-05 - val_accuracy: 1.0000\n",
            "Epoch 247/250\n",
            "11/11 [==============================] - 0s 25ms/step - loss: 0.0024 - accuracy: 1.0000 - val_loss: 7.5432e-05 - val_accuracy: 1.0000\n",
            "Epoch 248/250\n",
            "11/11 [==============================] - 0s 26ms/step - loss: 0.0227 - accuracy: 1.0000 - val_loss: 6.7524e-05 - val_accuracy: 1.0000\n",
            "Epoch 249/250\n",
            "11/11 [==============================] - 0s 26ms/step - loss: 0.0048 - accuracy: 1.0000 - val_loss: 6.2323e-05 - val_accuracy: 1.0000\n",
            "Epoch 250/250\n",
            "11/11 [==============================] - 0s 18ms/step - loss: 0.0163 - accuracy: 1.0000 - val_loss: 5.4845e-05 - val_accuracy: 1.0000\n"
          ]
        }
      ],
      "source": [
        "#fitting and saving the model\n",
        "history = model.fit(np.array(train_x), np.array(train_y), epochs=250, validation_data = VALIDATION_SET, batch_size=5, verbose=1)"
      ]
    },
    {
      "cell_type": "code",
      "execution_count": 20,
      "metadata": {
        "colab": {
          "base_uri": "https://localhost:8080/",
          "height": 282
        },
        "id": "Mq8YGwSS7KFk",
        "outputId": "66240039-98e5-4eda-a880-d9b658fecc7a"
      },
      "outputs": [
        {
          "data": {
            "text/plain": [
              "<Axes: >"
            ]
          },
          "execution_count": 20,
          "metadata": {},
          "output_type": "execute_result"
        },
        {
          "data": {
            "image/png": "[encoded data removed]",
            "text/plain": [
              "<Figure size 640x480 with 1 Axes>"
            ]
          },
          "metadata": {},
          "output_type": "display_data"
        }
      ],
      "source": [
        "pd.DataFrame(history.history).plot()"
      ]
    },
    {
      "cell_type": "code",
      "execution_count": 21,
      "metadata": {
        "colab": {
          "base_uri": "https://localhost:8080/"
        },
        "id": "8dFkj00W7TLD",
        "outputId": "e8fcdd64-a6ee-4f6e-fe86-c2071610af3e"
      },
      "outputs": [
        {
          "name": "stdout",
          "output_type": "stream",
          "text": [
            "model Saved\n"
          ]
        },
        {
          "name": "stderr",
          "output_type": "stream",
          "text": [
            "c:\\Users\\Rushikesh\\AppData\\Local\\Programs\\Python\\Python310\\lib\\site-packages\\keras\\src\\engine\\training.py:3000: UserWarning: You are saving your model as an HDF5 file via `model.save()`. This file format is considered legacy. We recommend using instead the native Keras format, e.g. `model.save('my_model.keras')`.\n",
            "  saving_api.save_model(\n"
          ]
        }
      ],
      "source": [
        "model.save('chatbot_model.h5', history)\n",
        "print(\"model Saved\")"
      ]
    },
    {
      "cell_type": "code",
      "execution_count": null,
      "metadata": {
        "id": "yiqcLJ6x7YWD"
      },
      "outputs": [],
      "source": []
    }
  ],
  "metadata": {
    "accelerator": "GPU",
    "colab": {
      "name": "Chatbot Training Notebook.ipynb",
      "provenance": []
    },
    "gpuClass": "standard",
    "kernelspec": {
      "display_name": "Python 3",
      "name": "python3"
    },
    "language_info": {
      "codemirror_mode": {
        "name": "ipython",
        "version": 3
      },
      "file_extension": ".py",
      "mimetype": "text/x-python",
      "name": "python",
      "nbconvert_exporter": "python",
      "pygments_lexer": "ipython3",
      "version": "3.10.5"
    }
  },
  "nbformat": 4,
  "nbformat_minor": 0
}
